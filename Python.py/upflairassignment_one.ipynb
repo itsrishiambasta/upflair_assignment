{
 "cells": [
  {
   "cell_type": "code",
   "execution_count": null,
   "metadata": {},
   "outputs": [
    {
     "name": "stdout",
     "output_type": "stream",
     "text": [
      "A\n"
     ]
    }
   ],
   "source": [
    "#Write a program that asks the user to enter their marks and displays their grade:\n",
    "#• 90-100: A\n",
    "#• 80-89: B\n",
    "#• 70-79: C\n",
    "#• 60-69: D\n",
    "#• Below 60: F\n",
    "\n",
    "marks = float(input(\"Enter your marks (0-100): \"))\n",
    "if 90 <= marks <= 100:\n",
    "        print(\"A\")\n",
    "elif 80 <= marks < 90:\n",
    "        print(\"B\")\n",
    "elif 70 <= marks < 80:\n",
    "        print(\"C\")\n",
    "elif 60 <= marks < 70:\n",
    "        print(\"D\")\n",
    "else:\n",
    "        print(\"F\")\n",
    "\n"
   ]
  },
  {
   "cell_type": "code",
   "execution_count": 11,
   "metadata": {},
   "outputs": [
    {
     "name": "stdout",
     "output_type": "stream",
     "text": [
      "Yes this is Leap Year\n"
     ]
    }
   ],
   "source": [
    "#Q4. Write a Python program to check if a given year is a leap year or not.\n",
    "year = int(input(\"Enter a year: \"))\n",
    "if (year % 4 == 0 and year % 100 != 0) or (year % 400 == 0):\n",
    "        print(\"Yes this is Leap Year\")\n",
    "else:\n",
    "        print(\"No this is not a Leap Year\")\n",
    "\n"
   ]
  },
  {
   "cell_type": "code",
   "execution_count": null,
   "metadata": {},
   "outputs": [
    {
     "name": "stdout",
     "output_type": "stream",
     "text": [
      "15\n"
     ]
    }
   ],
   "source": [
    "#Q3. Take a number and use the += operator to increase its value by 10.\n",
    "number = 5\n",
    "number += 10\n",
    "print(number) "
   ]
  },
  {
   "cell_type": "code",
   "execution_count": 8,
   "metadata": {},
   "outputs": [
    {
     "name": "stdout",
     "output_type": "stream",
     "text": [
      "7.0\n",
      "10.0\n",
      "10\n"
     ]
    }
   ],
   "source": [
    "#Implicit type casting example\n",
    "a = 5     \n",
    "b = 2.0   \n",
    "result = a + b \n",
    "print(result)  \n",
    "\n",
    "#Explicit Type Casting example \n",
    "x = 10\n",
    "y = float(x)  \n",
    "print(y)  \n",
    "\n",
    "z = 10.5\n",
    "w = int(z) \n",
    "print(w)  \n"
   ]
  },
  {
   "cell_type": "markdown",
   "metadata": {},
   "source": [
    "2.Explain how Python handles type conversion between different data types, such as between integers and floats or between strings and \n",
    "lists?\n",
    "Answer: \n",
    "Python handles type conversion between different data types through a process known as type casting. Casting is of Two types Implicit and  Explicit conversions.\n"
   ]
  },
  {
   "cell_type": "markdown",
   "metadata": {},
   "source": [
    "1.How do lists and tuples differ in terms of mutability and \n",
    "performance? When would you choose one over the other?\n",
    "answer: \n",
    "Lists are mutable that you can change their content after they have been created. You can add, remove, or modify elements in a list.\n",
    "list1 = [1, 2, 3]\n",
    "list1[1] = 10\n",
    "print(list1)\n",
    "\n",
    "Tuples are immutable,that once a tuple is created, its content cannot be changed. You cannot add, remove, or modify elements in a tuple.\n",
    "tuple1 = (1, 2, 3)\n",
    "tuple1[0] = 10  # This will raise a TypeError\n",
    "\n",
    "If i choose one over the other then i choose List because It is a collection of items that may change over time (e.g., adding or removing elements).\n"
   ]
  }
 ],
 "metadata": {
  "kernelspec": {
   "display_name": "base",
   "language": "python",
   "name": "python3"
  },
  "language_info": {
   "codemirror_mode": {
    "name": "ipython",
    "version": 3
   },
   "file_extension": ".py",
   "mimetype": "text/x-python",
   "name": "python",
   "nbconvert_exporter": "python",
   "pygments_lexer": "ipython3",
   "version": "3.12.4"
  }
 },
 "nbformat": 4,
 "nbformat_minor": 2
}
