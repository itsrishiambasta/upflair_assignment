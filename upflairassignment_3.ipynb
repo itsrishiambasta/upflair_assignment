{
 "cells": [
  {
   "cell_type": "markdown",
   "metadata": {},
   "source": [
    "1. Write a lambda function to merge two lists into a dictionary where one list represents keys and the other represents values."
   ]
  },
  {
   "cell_type": "code",
   "execution_count": 4,
   "metadata": {},
   "outputs": [
    {
     "name": "stdout",
     "output_type": "stream",
     "text": [
      "{'a': 1, 'b': 2, 'c': 3}\n"
     ]
    }
   ],
   "source": [
    "merge_lists = lambda keys, values: dict(zip(keys, values))\n",
    "keys = ['a', 'b', 'c']\n",
    "values = [1, 2, 3]\n",
    "result = merge_lists(keys, values)\n",
    "print(result)  \n"
   ]
  },
  {
   "cell_type": "markdown",
   "metadata": {},
   "source": [
    "2. Create a class Product with instance variables name and price. Also, add a class variable discount_rate and a method to calculate the\n",
    "discounted price."
   ]
  },
  {
   "cell_type": "code",
   "execution_count": 5,
   "metadata": {},
   "outputs": [
    {
     "name": "stdout",
     "output_type": "stream",
     "text": [
      "900.0\n"
     ]
    }
   ],
   "source": [
    "class Product:\n",
    "    discount_rate = 0.1 \n",
    "    def __init__(self, name, price):\n",
    "        self.name = name\n",
    "        self.price = price\n",
    "    def discounted_price(self):\n",
    "        return self.price * (1 - Product.discount_rate)\n",
    "p = Product(\"Laptop\", 1000)\n",
    "print(p.discounted_price()) \n"
   ]
  },
  {
   "cell_type": "markdown",
   "metadata": {},
   "source": [
    "3. Create a base class Shape with a method area(). Derive two subclasses Circle and Rectangle, each implementing their own area() method. (INHERITANCE)"
   ]
  },
  {
   "cell_type": "code",
   "execution_count": 6,
   "metadata": {},
   "outputs": [
    {
     "name": "stdout",
     "output_type": "stream",
     "text": [
      "78.53981633974483\n",
      "24\n"
     ]
    }
   ],
   "source": [
    "import math\n",
    "class Shape:\n",
    "    def area(self):\n",
    "        pass \n",
    "class Circle(Shape):\n",
    "    def __init__(self, radius):\n",
    "        self.radius = radius\n",
    "    def area(self):\n",
    "        return math.pi * self.radius ** 2\n",
    "class Rectangle(Shape):\n",
    "    def __init__(self, width, height):\n",
    "        self.width = width\n",
    "        self.height = height\n",
    "    def area(self):\n",
    "        return self.width * self.height\n",
    "c = Circle(5)\n",
    "r = Rectangle(4, 6)\n",
    "print(c.area())  \n",
    "print(r.area())  \n"
   ]
  },
  {
   "cell_type": "markdown",
   "metadata": {},
   "source": [
    "4. Create two base classes Person and Employee, and derive a class Manager from both. (MULTIPLE INHERITANCE)"
   ]
  },
  {
   "cell_type": "code",
   "execution_count": 7,
   "metadata": {},
   "outputs": [
    {
     "name": "stdout",
     "output_type": "stream",
     "text": [
      "Alice, 35, 70000, HR\n"
     ]
    }
   ],
   "source": [
    "class Person:\n",
    "    def __init__(self, name, age): self.name, self.age = name, age\n",
    "class Employee:\n",
    "    def __init__(self, salary): self.salary = salary\n",
    "class Manager(Person, Employee):\n",
    "    def __init__(self, name, age, salary, dept):\n",
    "        Person.__init__(self, name, age)\n",
    "        Employee.__init__(self, salary)\n",
    "        self.dept = dept\n",
    "    def details(self):\n",
    "        return f\"{self.name}, {self.age}, {self.salary}, {self.dept}\"\n",
    "m = Manager(\"Alice\", 35, 70000, \"HR\")\n",
    "print(m.details()) \n"
   ]
  },
  {
   "cell_type": "markdown",
   "metadata": {},
   "source": [
    "5. Implement a function play_sound() that accepts different animal objects (Dog, Cat, Cow) and calls their make_sound() method dynamically. (POLYMORPHISM)"
   ]
  },
  {
   "cell_type": "code",
   "execution_count": 8,
   "metadata": {},
   "outputs": [
    {
     "name": "stdout",
     "output_type": "stream",
     "text": [
      "Woof!\n",
      "Meow!\n",
      "Moo!\n"
     ]
    }
   ],
   "source": [
    "class Dog:\n",
    "    def make_sound(self): return \"Woof!\"\n",
    "class Cat:\n",
    "    def make_sound(self): return \"Meow!\"\n",
    "class Cow:\n",
    "    def make_sound(self): return \"Moo!\"\n",
    "def play_sound(animal):\n",
    "    print(animal.make_sound())\n",
    "animals = [Dog(), Cat(), Cow()]\n",
    "for animal in animals:\n",
    "    play_sound(animal)\n"
   ]
  },
  {
   "cell_type": "markdown",
   "metadata": {},
   "source": [
    "6. Design a Car Rental System using Object-Oriented Programming (OOP) in Python. The system should include a Vehicle class and derived classes Car and Bike. Implement constructors and use inheritance to manage common and specific attributes."
   ]
  },
  {
   "cell_type": "code",
   "execution_count": 9,
   "metadata": {},
   "outputs": [
    {
     "name": "stdout",
     "output_type": "stream",
     "text": [
      "Toyota Camry, Rent: $50/day, Seats: 5\n",
      "Yamaha MT-15, Rent: $20/day, Type: Sport\n"
     ]
    }
   ],
   "source": [
    "class Vehicle:\n",
    "    def __init__(self, brand, model, rent_per_day):\n",
    "        self.brand, self.model, self.rent_per_day = brand, model, rent_per_day\n",
    "    def get_details(self):\n",
    "        return f\"{self.brand} {self.model}, Rent: ${self.rent_per_day}/day\"\n",
    "class Car(Vehicle):\n",
    "    def __init__(self, brand, model, rent_per_day, seats):\n",
    "        super().__init__(brand, model, rent_per_day)\n",
    "        self.seats = seats\n",
    "    def get_details(self):\n",
    "        return super().get_details() + f\", Seats: {self.seats}\"\n",
    "class Bike(Vehicle):\n",
    "    def __init__(self, brand, model, rent_per_day, type_):\n",
    "        super().__init__(brand, model, rent_per_day)\n",
    "        self.type_ = type_\n",
    "    def get_details(self):\n",
    "        return super().get_details() + f\", Type: {self.type_}\"\n",
    "car = Car(\"Toyota\", \"Camry\", 50, 5)\n",
    "bike = Bike(\"Yamaha\", \"MT-15\", 20, \"Sport\")\n",
    "print(car.get_details())  \n",
    "print(bike.get_details())\n"
   ]
  }
 ],
 "metadata": {
  "kernelspec": {
   "display_name": "base",
   "language": "python",
   "name": "python3"
  },
  "language_info": {
   "codemirror_mode": {
    "name": "ipython",
    "version": 3
   },
   "file_extension": ".py",
   "mimetype": "text/x-python",
   "name": "python",
   "nbconvert_exporter": "python",
   "pygments_lexer": "ipython3",
   "version": "3.11.5"
  }
 },
 "nbformat": 4,
 "nbformat_minor": 2
}
