{
 "cells": [
  {
   "cell_type": "markdown",
   "metadata": {},
   "source": [
    "Q1.Write a function pascals_triangle(rows) that prints the first rows of \n",
    "Pascal’s Triangle using nested for loops. \n",
    "pascals_triangle(5)   \n",
    "Output: \n",
    "    1 \n",
    "   1 1 \n",
    "  1 2 1 \n",
    " 1 3 3 1 \n",
    "1 4 6 4 1"
   ]
  },
  {
   "cell_type": "code",
   "execution_count": null,
   "metadata": {},
   "outputs": [
    {
     "name": "stdout",
     "output_type": "stream",
     "text": [
      "    1 \n",
      "   1 1 \n",
      "  1 2 1 \n",
      " 1 3 3 1 \n",
      "1 4 6 4 1 \n"
     ]
    }
   ],
   "source": [
    "def pascals_triangle(rows):\n",
    "    for i in range(rows):\n",
    "        num = 1  \n",
    "        print(\" \" * (rows - i - 1), end=\"\") \n",
    "        for j in range(i + 1):\n",
    "            print(num, end=\" \")\n",
    "            num = num * (i - j) // (j + 1) \n",
    "        print()  \n",
    "pascals_triangle(5)\n"
   ]
  },
  {
   "cell_type": "markdown",
   "metadata": {},
   "source": [
    " Q2.Explain how the `continue` statement works in a loop. What are some scenarios where using `continue` is more beneficial than restructuring \n",
    "the loop? \n",
    "Answer: The continue statement in Python is used inside loops (for or while) to skip the current iteration and move to the next one without executing the remaining code in the loop body.\n",
    "for i in range(5):\n",
    "    if i == 2:\n",
    "        continue  # Skip the iteration when i == 2\n",
    "        print(i)\n",
    "then output will:\n",
    "0\n",
    "1\n",
    "3\n",
    "4\n",
    "Using continue can improve code readability and efficiency in several scenarios:\n",
    "1. Skipping Unwanted Data Efficiently\n",
    "2. Avoiding Extra Computation\n",
    "3. Handling Input Validation"
   ]
  },
  {
   "cell_type": "code",
   "execution_count": 4,
   "metadata": {},
   "outputs": [
    {
     "name": "stdout",
     "output_type": "stream",
     "text": [
      "15\n",
      "30\n",
      "45\n",
      "60\n",
      "90\n"
     ]
    }
   ],
   "source": [
    "#Write a Python program that iterates through a list of numbers and prints only those numbers that are divisible by 3, using the continue statement.\n",
    "numbers = [10, 15, 22, 30, 45, 50, 60, 77, 90]\n",
    "\n",
    "for num in numbers:\n",
    "    if num % 3 != 0:\n",
    "        continue  # Skip numbers not divisible by 3\n",
    "    print(num)  # Print numbers divisible by 3\n"
   ]
  },
  {
   "cell_type": "markdown",
   "metadata": {},
   "source": [
    "Q3.Use list comprehension to generate all Pythagorean triplets (a, b, c) where a² + b² = c² and a, b, c ≤ 50. "
   ]
  },
  {
   "cell_type": "code",
   "execution_count": 5,
   "metadata": {},
   "outputs": [
    {
     "name": "stdout",
     "output_type": "stream",
     "text": [
      "[(3, 4, 5), (5, 12, 13), (6, 8, 10), (7, 24, 25), (8, 15, 17), (9, 12, 15), (9, 40, 41), (10, 24, 26), (12, 16, 20), (12, 35, 37), (14, 48, 50), (15, 20, 25), (15, 36, 39), (16, 30, 34), (18, 24, 30), (20, 21, 29), (21, 28, 35), (24, 32, 40), (27, 36, 45), (30, 40, 50)]\n"
     ]
    }
   ],
   "source": [
    "triplets = [(a, b, c) for a in range(1, 51) for b in range(a, 51) for c in range(b, 51) if a**2 + b**2 == c**2]\n",
    "print(triplets)\n"
   ]
  },
  {
   "cell_type": "markdown",
   "metadata": {},
   "source": [
    "Q4.Write a function max_consecutive_sum(nums, k) that finds the maximum sum of k consecutive elements in a list."
   ]
  },
  {
   "cell_type": "code",
   "execution_count": null,
   "metadata": {},
   "outputs": [
    {
     "name": "stdout",
     "output_type": "stream",
     "text": [
      "24\n"
     ]
    }
   ],
   "source": [
    "def max_consecutive_sum(nums, k):\n",
    "    if not nums or k > len(nums):\n",
    "        return None \n",
    "    \n",
    "    max_sum = sum(nums[:k]) \n",
    "    current_sum = max_sum\n",
    "    \n",
    "    for i in range(k, len(nums)):\n",
    "        current_sum += nums[i] - nums[i - k]  \n",
    "        max_sum = max(max_sum, current_sum)\n",
    "    \n",
    "    return max_sum\n",
    "\n",
    "\n",
    "nums = [1, 2, 3, 4, 5, 6, 7, 8, 9]\n",
    "k = 3\n",
    "print(max_consecutive_sum(nums, k))  \n"
   ]
  },
  {
   "cell_type": "markdown",
   "metadata": {},
   "source": [
    "Q5. Write a function that takes a list as an argument and modifies it by appending a new item. Demonstrate how changes to the list inside the \n",
    "function affect the list outside the function."
   ]
  },
  {
   "cell_type": "code",
   "execution_count": 7,
   "metadata": {},
   "outputs": [
    {
     "name": "stdout",
     "output_type": "stream",
     "text": [
      "Before function call: [1, 2, 3]\n",
      "After function call: [1, 2, 3, 4]\n"
     ]
    }
   ],
   "source": [
    "def modify_list(lst, item):\n",
    "    lst.append(item)  \n",
    "my_list = [1, 2, 3]\n",
    "print(\"Before function call:\", my_list)\n",
    "modify_list(my_list, 4)\n",
    "print(\"After function call:\", my_list)  \n"
   ]
  },
  {
   "cell_type": "markdown",
   "metadata": {},
   "source": [
    "Q6.Take a number as input and print the Fibonacci sequence up to that many terms using User-defined functions. "
   ]
  },
  {
   "cell_type": "code",
   "execution_count": 9,
   "metadata": {},
   "outputs": [
    {
     "name": "stdout",
     "output_type": "stream",
     "text": [
      "Fibonacci sequence: [0, 1, 1, 2, 3]\n"
     ]
    }
   ],
   "source": [
    "def fibonacci(n):\n",
    "    sequence = []\n",
    "    a, b = 0, 1\n",
    "    for _ in range(n):\n",
    "        sequence.append(a)\n",
    "        a, b = b, a + b\n",
    "    return sequence\n",
    "num_terms = int(input(\"Enter the number of terms: \"))\n",
    "print(\"Fibonacci sequence:\", fibonacci(num_terms))\n"
   ]
  }
 ],
 "metadata": {
  "kernelspec": {
   "display_name": "base",
   "language": "python",
   "name": "python3"
  },
  "language_info": {
   "codemirror_mode": {
    "name": "ipython",
    "version": 3
   },
   "file_extension": ".py",
   "mimetype": "text/x-python",
   "name": "python",
   "nbconvert_exporter": "python",
   "pygments_lexer": "ipython3",
   "version": "3.11.5"
  }
 },
 "nbformat": 4,
 "nbformat_minor": 2
}
